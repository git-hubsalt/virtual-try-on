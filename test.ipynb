{
 "cells": [
  {
   "cell_type": "code",
   "execution_count": 5,
   "metadata": {},
   "outputs": [
    {
     "name": "stderr",
     "output_type": "stream",
     "text": [
      "C:\\Users\\user\\AppData\\Local\\Temp\\ipykernel_33880\\3916560351.py:17: DeprecationWarning: LANCZOS is deprecated and will be removed in Pillow 10 (2023-07-01). Use Resampling.LANCZOS instead.\n",
      "  image = image.resize(size, Image.LANCZOS)\n"
     ]
    }
   ],
   "source": [
    "from PIL import Image\n",
    "\n",
    "def resize_and_crop(image, size):\n",
    "    # Crop to size ratio\n",
    "    w, h = image.size\n",
    "    target_w, target_h = size\n",
    "    if w / h < target_w / target_h:\n",
    "        new_w = w\n",
    "        new_h = w * target_h // target_w\n",
    "    else:\n",
    "        new_h = h\n",
    "        new_w = h * target_w // target_h\n",
    "    image = image.crop(\n",
    "        ((w - new_w) // 2, (h - new_h) // 2, (w + new_w) // 2, (h + new_h) // 2)\n",
    "    )\n",
    "    # resize\n",
    "    image = image.resize(size, Image.LANCZOS)\n",
    "    return image\n",
    "\n",
    "\n",
    "image = Image.open(\"man_test.jpg\")\n",
    "# res = resize_and_crop(image, (384, 512))\n",
    "res = resize_and_crop(image, (768, 1024))\n",
    "res.save(\"./res.jpg\")"
   ]
  }
 ],
 "metadata": {
  "kernelspec": {
   "display_name": "base",
   "language": "python",
   "name": "python3"
  },
  "language_info": {
   "codemirror_mode": {
    "name": "ipython",
    "version": 3
   },
   "file_extension": ".py",
   "mimetype": "text/x-python",
   "name": "python",
   "nbconvert_exporter": "python",
   "pygments_lexer": "ipython3",
   "version": "3.9.13"
  }
 },
 "nbformat": 4,
 "nbformat_minor": 2
}
